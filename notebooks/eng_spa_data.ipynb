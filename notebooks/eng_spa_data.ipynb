{
 "cells": [
  {
   "cell_type": "markdown",
   "metadata": {},
   "source": [
    "# Eng-spa data"
   ]
  },
  {
   "cell_type": "code",
   "execution_count": 1,
   "metadata": {},
   "outputs": [
    {
     "name": "stdout",
     "output_type": "stream",
     "text": [
      "['Go.\\tVe.', 'Go.\\tVete.', 'Go.\\tVaya.', 'Go.\\tVáyase.', 'Hi.\\tHola.', 'Run!\\t¡Corre!', 'Run.\\tCorred.', 'Who?\\t¿Quién?', 'Fire!\\t¡Fuego!', 'Fire!\\t¡Incendio!']\n"
     ]
    }
   ],
   "source": [
    "with open(\"../datasets/eng_spa.txt\") as f:\n",
    "    data = f.read().split(\"\\n\")\n",
    "\n",
    "print(data[:10])"
   ]
  },
  {
   "cell_type": "code",
   "execution_count": 2,
   "metadata": {},
   "outputs": [
    {
     "name": "stdout",
     "output_type": "stream",
     "text": [
      "['If you want to sound like a native speaker, you must be willing to practice saying the same sentence over and over in the same way that banjo players practice the same phrase over and over until they can play it correctly and at the desired tempo.\\tSi quieres sonar como un hablante nativo, debes estar dispuesto a practicar diciendo la misma frase una y otra vez de la misma manera en que un músico de banjo practica el mismo fraseo una y otra vez hasta que lo puedan tocar correctamente y en el tiempo esperado.', '']\n",
      "If you want to sound like a native speaker, you must be willing to practice saying the same sentence over and over in the same way that banjo players practice the same phrase over and over until they can play it correctly and at the desired tempo.\tSi quieres sonar como un hablante nativo, debes estar dispuesto a practicar diciendo la misma frase una y otra vez de la misma manera en que un músico de banjo practica el mismo fraseo una y otra vez hasta que lo puedan tocar correctamente y en el tiempo esperado.\n"
     ]
    }
   ],
   "source": [
    "print(data[-2:])\n",
    "\n",
    "# Remove last example (empty).\n",
    "data = data[:-1]\n",
    "print(data[-1])"
   ]
  },
  {
   "cell_type": "code",
   "execution_count": 3,
   "metadata": {},
   "outputs": [],
   "source": [
    "eng_data = []\n",
    "spa_data = []\n",
    "\n",
    "for words in data: \n",
    "    eng, spa = words.split(\"\\t\")\n",
    "    eng_data.append(eng)\n",
    "    spa_data.append(spa)"
   ]
  },
  {
   "cell_type": "code",
   "execution_count": 4,
   "metadata": {},
   "outputs": [
    {
     "name": "stdout",
     "output_type": "stream",
     "text": [
      "Go. \t===>\t Ve.\n",
      "Go. \t===>\t Vete.\n",
      "Go. \t===>\t Vaya.\n",
      "Go. \t===>\t Váyase.\n",
      "Hi. \t===>\t Hola.\n",
      "Run! \t===>\t ¡Corre!\n",
      "Run. \t===>\t Corred.\n",
      "Who? \t===>\t ¿Quién?\n",
      "Fire! \t===>\t ¡Fuego!\n",
      "Fire! \t===>\t ¡Incendio!\n",
      "Fire! \t===>\t ¡Disparad!\n",
      "Help! \t===>\t ¡Ayuda!\n",
      "Help! \t===>\t ¡Socorro! ¡Auxilio!\n",
      "Help! \t===>\t ¡Auxilio!\n",
      "Jump! \t===>\t ¡Salta!\n",
      "Jump. \t===>\t Salte.\n",
      "Stop! \t===>\t ¡Parad!\n",
      "Stop! \t===>\t ¡Para!\n",
      "Stop! \t===>\t ¡Pare!\n",
      "Wait! \t===>\t ¡Espera!\n",
      "Wait. \t===>\t Esperen.\n",
      "Go on. \t===>\t Continúa.\n",
      "Go on. \t===>\t Continúe.\n",
      "Hello! \t===>\t Hola.\n",
      "I ran. \t===>\t Corrí.\n",
      "I ran. \t===>\t Corría.\n",
      "I try. \t===>\t Lo intento.\n",
      "I won! \t===>\t ¡He ganado!\n",
      "Oh no! \t===>\t ¡Oh, no!\n",
      "Relax. \t===>\t Tomátelo con soda.\n",
      "Smile. \t===>\t Sonríe.\n",
      "Attack! \t===>\t ¡Al ataque!\n",
      "Attack! \t===>\t ¡Atacad!\n",
      "Get up. \t===>\t Levanta.\n",
      "Go now. \t===>\t Ve ahora mismo.\n",
      "Got it! \t===>\t ¡Lo tengo!\n",
      "Got it? \t===>\t ¿Lo pillas?\n",
      "Got it? \t===>\t ¿Entendiste?\n",
      "He ran. \t===>\t Él corrió.\n",
      "Hop in. \t===>\t Métete adentro.\n",
      "Hug me. \t===>\t Abrázame.\n",
      "I fell. \t===>\t Me caí.\n",
      "I know. \t===>\t Yo lo sé.\n",
      "I left. \t===>\t Salí.\n",
      "I lied. \t===>\t Mentí.\n",
      "I lost. \t===>\t Perdí.\n",
      "I quit. \t===>\t Dimito.\n",
      "I quit. \t===>\t Renuncié.\n",
      "I work. \t===>\t Estoy trabajando.\n",
      "I'm 19. \t===>\t Tengo diecinueve.\n"
     ]
    }
   ],
   "source": [
    "for i in range(50):\n",
    "    print(f\"{eng_data[i]} \\t===>\\t {spa_data[i]}\")"
   ]
  },
  {
   "cell_type": "markdown",
   "metadata": {},
   "source": [
    "## BPE"
   ]
  },
  {
   "cell_type": "code",
   "execution_count": 5,
   "metadata": {},
   "outputs": [
    {
     "name": "stdout",
     "output_type": "stream",
     "text": [
      "/home/gordonbchen/code/transformer\n"
     ]
    },
    {
     "name": "stderr",
     "output_type": "stream",
     "text": [
      "/home/gordonbchen/code/transformer/venv/lib/python3.10/site-packages/IPython/core/magics/osm.py:417: UserWarning: using dhist requires you to install the `pickleshare` library.\n",
      "  self.shell.db['dhist'] = compress_dhist(dhist)[-100:]\n",
      "/home/gordonbchen/code/transformer/venv/lib/python3.10/site-packages/IPython/core/magics/osm.py:417: UserWarning: using dhist requires you to install the `pickleshare` library.\n",
      "  self.shell.db['dhist'] = compress_dhist(dhist)[-100:]\n"
     ]
    },
    {
     "name": "stdout",
     "output_type": "stream",
     "text": [
      "/home/gordonbchen/code/transformer/notebooks\n",
      "\n",
      "Training byte pair encoder\n"
     ]
    },
    {
     "name": "stderr",
     "output_type": "stream",
     "text": [
      "100%|██████████| 128/128 [01:53<00:00,  1.13it/s]\n"
     ]
    },
    {
     "name": "stdout",
     "output_type": "stream",
     "text": [
      "\n",
      "New vocab\n",
      "[b' t', b'he', b' a', b'ou', b'in', b' w', b're', b' s', b'is', b'om', b'ha', b' to', b' m', b'on', b' d', b' b', b've', b' the', b' y', b' c', b' you', b' f', b'an', b'ing', b' l', b'ed', b'Tom', b'it', b'or', b'er', b'ar', b'll', b'en', b' p', b' ha', b' g', b'as', b' n', b' h', b' is', b\"'t\", b'es', b' o', b'hat', b' he', b'at', b'ow', b' in', b'ot', b'ay', b'et', b' th', b'The', b'le', b' of', b' be', b'id', b'ld', b' an', b' do', b\"'s\", b' e', b'us', b'im', b'ver', b'ke', b' was', b' me', b' I', b'He', b'ic', b'oo', b' on', b' that', b' st', b' li', b'gh', b' for', b' re', b' have', b'ant', b' k', b' it', b'ch', b' we', b'You', b' r', b'al', b'ary', b' Tom', b'ght', b' want', b'st', b'ad', b' ne', b'ould', b'un', b'ent', b' M', b' my', b'out', b'ome', b' go', b'her', b'se', b' kn', b'ith', b' not', b'ill', b' with', b'ut', b'very', b' your', b'ly', b' Mary', b'She', b'ri', b' this', b' can', b' at', b' his', b' are', b'am', b'We', b'ter', b' know', b'It', b'ac']\n",
      "\n",
      "Training byte pair encoder\n"
     ]
    },
    {
     "name": "stderr",
     "output_type": "stream",
     "text": [
      "100%|██████████| 128/128 [02:04<00:00,  1.03it/s]"
     ]
    },
    {
     "name": "stdout",
     "output_type": "stream",
     "text": [
      "\n",
      "New vocab\n",
      "[b' e', b' a', b' d', b'er', b' p', b'ar', b' c', b' l', b'en', b'st', b'ue', b'os', b' s', b' m', b' de', b' t', b'om', b' q', b'as', b'do', b'an', b'on', b'\\xc3\\xad', b'es', b'un', b'or', b'\\xc3\\xb3', b' h', b' n', b' que', b'\\xc3\\xa1', b'\\xc3\\xa9', b'Tom', b' est', b' es', b're', b' en', b' v', b' un', b'ab', b' la', b'\\xc2\\xbf', b'ci', b' el', b'in', b'ad', b'te', b' no', b' f', b'ien', b'al', b'am', b' con', b'to', b' se', b'ui', b'ado', b'No', b'ro', b'la', b'le', b' b', b'El', b'ra', b' al', b'ch', b' g', b' ha', b' su', b'ta', b'go', b'de', b' me', b'ir', b'\\xc3\\xb1', b'Est', b'ol', b' com', b'ic', b' par', b' mu', b' Tom', b' una', b'ie', b'ero', b' lo', b'mp', b'is', b'aba', b'di', b'ente', b' por', b' le', b'oy', b' y', b'\\xc3\\x89', b' o', b'ando', b'da', b'lo', b'Mar', b'res', b' hab', b'ri', b' re', b'ec', b'uer', b' di', b' Mar', b' te', b' in', b'Es', b'\\xc3\\xba', b'ust', b'ti', b' para', b'jo', b' mi', b'cu', b' los', b' cu', b' to', b' Mary', b'vi', b'Me', b'ada', b' qui', b' vi']\n"
     ]
    },
    {
     "name": "stderr",
     "output_type": "stream",
     "text": [
      "\n"
     ]
    }
   ],
   "source": [
    "%cd ..\n",
    "from data import BytePairEncoder\n",
    "%cd notebooks\n",
    "\n",
    "vocab_size = 256 + 128\n",
    "eng_bpe = BytePairEncoder(eng_data, vocab_size)\n",
    "spa_bpe = BytePairEncoder(spa_data, vocab_size)"
   ]
  },
  {
   "cell_type": "code",
   "execution_count": 13,
   "metadata": {},
   "outputs": [
    {
     "data": {
      "text/plain": [
       "([[71, 111, 46],\n",
       "  [71, 111, 46],\n",
       "  [71, 111, 46],\n",
       "  [71, 111, 46],\n",
       "  [72, 105, 46],\n",
       "  [82, 352, 33],\n",
       "  [82, 352, 46],\n",
       "  [87, 104, 111, 63],\n",
       "  [70, 105, 262, 33],\n",
       "  [70, 105, 262, 33]],\n",
       " [[86, 101, 46],\n",
       "  [86, 101, 302, 46],\n",
       "  [86, 97, 121, 97, 46],\n",
       "  [86, 286, 121, 274, 101, 46],\n",
       "  [72, 111, 315, 46],\n",
       "  [194, 161, 67, 281, 291, 33],\n",
       "  [67, 281, 291, 100, 46],\n",
       "  [297, 81, 311, 287, 110, 63],\n",
       "  [194, 161, 70, 266, 326, 33],\n",
       "  [194, 161, 73, 110, 99, 264, 345, 111, 33]])"
      ]
     },
     "execution_count": 13,
     "metadata": {},
     "output_type": "execute_result"
    }
   ],
   "source": [
    "eng_tokens = [eng_bpe.encode(i) for i in eng_data]\n",
    "spa_tokens = [spa_bpe.encode(i) for i in spa_data]\n",
    "\n",
    "eng_tokens[:10], spa_tokens[:10]"
   ]
  },
  {
   "cell_type": "markdown",
   "metadata": {},
   "source": [
    "## Remove super long examples"
   ]
  },
  {
   "cell_type": "code",
   "execution_count": 14,
   "metadata": {},
   "outputs": [
    {
     "data": {
      "text/plain": [
       "(141, 155)"
      ]
     },
     "execution_count": 14,
     "metadata": {},
     "output_type": "execute_result"
    }
   ],
   "source": [
    "eng_lens = [len(i) for i in eng_tokens]\n",
    "spa_lens = [len(i) for i in spa_tokens]\n",
    "\n",
    "max(eng_lens), max(spa_lens)"
   ]
  },
  {
   "cell_type": "code",
   "execution_count": 16,
   "metadata": {},
   "outputs": [
    {
     "data": {
      "image/png": "[encoded data removed]",
      "text/plain": [
       "<Figure size 640x480 with 1 Axes>"
      ]
     },
     "metadata": {},
     "output_type": "display_data"
    }
   ],
   "source": [
    "import matplotlib.pyplot as plt\n",
    "\n",
    "plt.hist(eng_lens, bins=50, color=\"blue\", alpha=0.5)\n",
    "plt.hist(spa_lens, bins=50, color=\"red\", alpha=0.5);"
   ]
  },
  {
   "cell_type": "code",
   "execution_count": 27,
   "metadata": {},
   "outputs": [
    {
     "data": {
      "text/plain": [
       "(118964, 118882, 82)"
      ]
     },
     "execution_count": 27,
     "metadata": {},
     "output_type": "execute_result"
    }
   ],
   "source": [
    "block_size = 64 + 2  # Need space for start and end tokens.\n",
    "\n",
    "filtered_eng_tokens = [t for t in eng_tokens if len(t) <= (block_size - 2)]\n",
    "\n",
    "len(eng_tokens), len(filtered_eng_tokens), len(eng_tokens) - len(filtered_eng_tokens)"
   ]
  },
  {
   "cell_type": "code",
   "execution_count": null,
   "metadata": {},
   "outputs": [],
   "source": []
  }
 ],
 "metadata": {
  "kernelspec": {
   "display_name": "venv",
   "language": "python",
   "name": "python3"
  },
  "language_info": {
   "codemirror_mode": {
    "name": "ipython",
    "version": 3
   },
   "file_extension": ".py",
   "mimetype": "text/x-python",
   "name": "python",
   "nbconvert_exporter": "python",
   "pygments_lexer": "ipython3",
   "version": "3.10.12"
  }
 },
 "nbformat": 4,
 "nbformat_minor": 2
}
